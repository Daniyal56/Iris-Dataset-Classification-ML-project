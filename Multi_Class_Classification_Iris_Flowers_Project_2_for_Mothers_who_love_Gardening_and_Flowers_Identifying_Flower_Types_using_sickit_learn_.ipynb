{
  "nbformat": 4,
  "nbformat_minor": 0,
  "metadata": {
    "colab": {
      "name": "Multi-Class Classification Iris Flowers Project 2 for Mothers who love Gardening and Flowers:    Identifying Flower Types using sickit-learn .ipynb",
      "provenance": []
    },
    "kernelspec": {
      "name": "python3",
      "display_name": "Python 3"
    }
  },
  "cells": [
    {
      "cell_type": "code",
      "metadata": {
        "id": "5O4VGinADS2-",
        "colab_type": "code",
        "colab": {}
      },
      "source": [
        "import numpy \n",
        "import pandas \n",
        "from keras.models import Sequential \n",
        "from keras.layers import Dense \n",
        "from keras.wrappers.scikit_learn import KerasClassifier \n",
        "from keras.utils import to_categorical \n",
        "from sklearn.model_selection import cross_val_score \n",
        "from sklearn.model_selection import KFold \n",
        "from sklearn.preprocessing import LabelEncoder \n",
        "from sklearn.pipeline import Pipeline "
      ],
      "execution_count": 0,
      "outputs": []
    },
    {
      "cell_type": "code",
      "metadata": {
        "id": "l2F6r35-Dajo",
        "colab_type": "code",
        "colab": {}
      },
      "source": [
        "# fix random seed for reproducibility \n",
        "\n",
        "seed = 7 \n",
        "numpy.random.seed(seed) "
      ],
      "execution_count": 0,
      "outputs": []
    },
    {
      "cell_type": "code",
      "metadata": {
        "id": "7ST1cfiJDfFx",
        "colab_type": "code",
        "colab": {}
      },
      "source": [
        "# load dataset \n",
        "\n",
        "dataframe = pandas.read_csv(\"http://archive.ics.uci.edu/ml/machine-learning-databases/iris/iris.data  \", header=None) \n",
        "dataset = dataframe.values \n",
        "X = dataset[:,0:4].astype(float) \n",
        "Y = dataset[:,4] "
      ],
      "execution_count": 0,
      "outputs": []
    },
    {
      "cell_type": "code",
      "metadata": {
        "id": "rYcPDXd9DmCw",
        "colab_type": "code",
        "colab": {}
      },
      "source": [
        "# encode class values as integers \n",
        "encoder = LabelEncoder() \n",
        "encoder.fit(Y) \n",
        "encoded_Y = encoder.transform(Y) \n",
        "# convert integers to dummy variables (i.e. one hot encoded) \n",
        "dummy_y = to_categorical(encoded_Y) "
      ],
      "execution_count": 0,
      "outputs": []
    },
    {
      "cell_type": "code",
      "metadata": {
        "id": "f3jSo1jpDshp",
        "colab_type": "code",
        "colab": {
          "base_uri": "https://localhost:8080/",
          "height": 1000
        },
        "outputId": "3bc76620-de2e-49fa-cb8b-b62fd53535eb"
      },
      "source": [
        "dummy_y"
      ],
      "execution_count": 109,
      "outputs": [
        {
          "output_type": "execute_result",
          "data": {
            "text/plain": [
              "array([[1., 0., 0.],\n",
              "       [1., 0., 0.],\n",
              "       [1., 0., 0.],\n",
              "       [1., 0., 0.],\n",
              "       [1., 0., 0.],\n",
              "       [1., 0., 0.],\n",
              "       [1., 0., 0.],\n",
              "       [1., 0., 0.],\n",
              "       [1., 0., 0.],\n",
              "       [1., 0., 0.],\n",
              "       [1., 0., 0.],\n",
              "       [1., 0., 0.],\n",
              "       [1., 0., 0.],\n",
              "       [1., 0., 0.],\n",
              "       [1., 0., 0.],\n",
              "       [1., 0., 0.],\n",
              "       [1., 0., 0.],\n",
              "       [1., 0., 0.],\n",
              "       [1., 0., 0.],\n",
              "       [1., 0., 0.],\n",
              "       [1., 0., 0.],\n",
              "       [1., 0., 0.],\n",
              "       [1., 0., 0.],\n",
              "       [1., 0., 0.],\n",
              "       [1., 0., 0.],\n",
              "       [1., 0., 0.],\n",
              "       [1., 0., 0.],\n",
              "       [1., 0., 0.],\n",
              "       [1., 0., 0.],\n",
              "       [1., 0., 0.],\n",
              "       [1., 0., 0.],\n",
              "       [1., 0., 0.],\n",
              "       [1., 0., 0.],\n",
              "       [1., 0., 0.],\n",
              "       [1., 0., 0.],\n",
              "       [1., 0., 0.],\n",
              "       [1., 0., 0.],\n",
              "       [1., 0., 0.],\n",
              "       [1., 0., 0.],\n",
              "       [1., 0., 0.],\n",
              "       [1., 0., 0.],\n",
              "       [1., 0., 0.],\n",
              "       [1., 0., 0.],\n",
              "       [1., 0., 0.],\n",
              "       [1., 0., 0.],\n",
              "       [1., 0., 0.],\n",
              "       [1., 0., 0.],\n",
              "       [1., 0., 0.],\n",
              "       [1., 0., 0.],\n",
              "       [1., 0., 0.],\n",
              "       [0., 1., 0.],\n",
              "       [0., 1., 0.],\n",
              "       [0., 1., 0.],\n",
              "       [0., 1., 0.],\n",
              "       [0., 1., 0.],\n",
              "       [0., 1., 0.],\n",
              "       [0., 1., 0.],\n",
              "       [0., 1., 0.],\n",
              "       [0., 1., 0.],\n",
              "       [0., 1., 0.],\n",
              "       [0., 1., 0.],\n",
              "       [0., 1., 0.],\n",
              "       [0., 1., 0.],\n",
              "       [0., 1., 0.],\n",
              "       [0., 1., 0.],\n",
              "       [0., 1., 0.],\n",
              "       [0., 1., 0.],\n",
              "       [0., 1., 0.],\n",
              "       [0., 1., 0.],\n",
              "       [0., 1., 0.],\n",
              "       [0., 1., 0.],\n",
              "       [0., 1., 0.],\n",
              "       [0., 1., 0.],\n",
              "       [0., 1., 0.],\n",
              "       [0., 1., 0.],\n",
              "       [0., 1., 0.],\n",
              "       [0., 1., 0.],\n",
              "       [0., 1., 0.],\n",
              "       [0., 1., 0.],\n",
              "       [0., 1., 0.],\n",
              "       [0., 1., 0.],\n",
              "       [0., 1., 0.],\n",
              "       [0., 1., 0.],\n",
              "       [0., 1., 0.],\n",
              "       [0., 1., 0.],\n",
              "       [0., 1., 0.],\n",
              "       [0., 1., 0.],\n",
              "       [0., 1., 0.],\n",
              "       [0., 1., 0.],\n",
              "       [0., 1., 0.],\n",
              "       [0., 1., 0.],\n",
              "       [0., 1., 0.],\n",
              "       [0., 1., 0.],\n",
              "       [0., 1., 0.],\n",
              "       [0., 1., 0.],\n",
              "       [0., 1., 0.],\n",
              "       [0., 1., 0.],\n",
              "       [0., 1., 0.],\n",
              "       [0., 1., 0.],\n",
              "       [0., 1., 0.],\n",
              "       [0., 0., 1.],\n",
              "       [0., 0., 1.],\n",
              "       [0., 0., 1.],\n",
              "       [0., 0., 1.],\n",
              "       [0., 0., 1.],\n",
              "       [0., 0., 1.],\n",
              "       [0., 0., 1.],\n",
              "       [0., 0., 1.],\n",
              "       [0., 0., 1.],\n",
              "       [0., 0., 1.],\n",
              "       [0., 0., 1.],\n",
              "       [0., 0., 1.],\n",
              "       [0., 0., 1.],\n",
              "       [0., 0., 1.],\n",
              "       [0., 0., 1.],\n",
              "       [0., 0., 1.],\n",
              "       [0., 0., 1.],\n",
              "       [0., 0., 1.],\n",
              "       [0., 0., 1.],\n",
              "       [0., 0., 1.],\n",
              "       [0., 0., 1.],\n",
              "       [0., 0., 1.],\n",
              "       [0., 0., 1.],\n",
              "       [0., 0., 1.],\n",
              "       [0., 0., 1.],\n",
              "       [0., 0., 1.],\n",
              "       [0., 0., 1.],\n",
              "       [0., 0., 1.],\n",
              "       [0., 0., 1.],\n",
              "       [0., 0., 1.],\n",
              "       [0., 0., 1.],\n",
              "       [0., 0., 1.],\n",
              "       [0., 0., 1.],\n",
              "       [0., 0., 1.],\n",
              "       [0., 0., 1.],\n",
              "       [0., 0., 1.],\n",
              "       [0., 0., 1.],\n",
              "       [0., 0., 1.],\n",
              "       [0., 0., 1.],\n",
              "       [0., 0., 1.],\n",
              "       [0., 0., 1.],\n",
              "       [0., 0., 1.],\n",
              "       [0., 0., 1.],\n",
              "       [0., 0., 1.],\n",
              "       [0., 0., 1.],\n",
              "       [0., 0., 1.],\n",
              "       [0., 0., 1.],\n",
              "       [0., 0., 1.],\n",
              "       [0., 0., 1.],\n",
              "       [0., 0., 1.]], dtype=float32)"
            ]
          },
          "metadata": {
            "tags": []
          },
          "execution_count": 109
        }
      ]
    },
    {
      "cell_type": "code",
      "metadata": {
        "id": "FIHHEWREDt7R",
        "colab_type": "code",
        "colab": {}
      },
      "source": [
        " #define baseline model \n",
        "\n",
        "def baseline_model(): \n",
        "# create model \n",
        "  model = Sequential()\n",
        "  model.add(Dense(8, activation='relu', input_shape=(4,)))\n",
        "  model.add(Dense(3,activation='softmax'))\n",
        "# Compile model \n",
        "  model.compile(optimizer='Adam',loss='categorical_crossentropy', metrics=['acc'])\n",
        "  return model "
      ],
      "execution_count": 0,
      "outputs": []
    },
    {
      "cell_type": "code",
      "metadata": {
        "id": "nQWT2K5hEh-x",
        "colab_type": "code",
        "colab": {}
      },
      "source": [
        "estimator = KerasClassifier(build_fn=baseline_model, epochs=200, batch_size=5, verbose=0) \n",
        "\n",
        " "
      ],
      "execution_count": 0,
      "outputs": []
    },
    {
      "cell_type": "code",
      "metadata": {
        "id": "sHiCGxYlEoCi",
        "colab_type": "code",
        "colab": {}
      },
      "source": [
        "kfold = KFold(n_splits=10, shuffle=True, random_state=seed) "
      ],
      "execution_count": 0,
      "outputs": []
    },
    {
      "cell_type": "code",
      "metadata": {
        "id": "T2CFkjXdEqox",
        "colab_type": "code",
        "colab": {
          "base_uri": "https://localhost:8080/",
          "height": 34
        },
        "outputId": "3325cd43-fc45-497b-8bb2-90d9821cc2f6"
      },
      "source": [
        "results = cross_val_score(estimator, X, dummy_y, cv=kfold) \n",
        "\n",
        "print(\"Baseline: %.2f%% (%.2f%%)\" % (results.mean()*100, results.std()*100)) "
      ],
      "execution_count": 113,
      "outputs": [
        {
          "output_type": "stream",
          "text": [
            "Baseline: 97.33% (4.42%)\n"
          ],
          "name": "stdout"
        }
      ]
    },
    {
      "cell_type": "code",
      "metadata": {
        "id": "vHMqaTJCEtwY",
        "colab_type": "code",
        "colab": {}
      },
      "source": [
        "#Step 5.1. Evaluate a Smaller Network \n",
        "\n",
        "def smaller(): \n",
        "# create model \n",
        "  model = Sequential()\n",
        "  model.add(Dense(4, activation='relu', input_shape=(4,)))\n",
        "  model.add(Dense(3,activation='softmax'))\n",
        "# Compile model \n",
        "  model.compile(optimizer='Adam',loss='categorical_crossentropy', metrics=['acc'])\n",
        "  return model "
      ],
      "execution_count": 0,
      "outputs": []
    },
    {
      "cell_type": "code",
      "metadata": {
        "id": "aDCK8RJBFQnf",
        "colab_type": "code",
        "colab": {}
      },
      "source": [
        "estimator = KerasClassifier(build_fn=smaller, epochs=200, batch_size=5, verbose=0) \n",
        "\n",
        " "
      ],
      "execution_count": 0,
      "outputs": []
    },
    {
      "cell_type": "code",
      "metadata": {
        "id": "UsJHLwRrFUdp",
        "colab_type": "code",
        "colab": {}
      },
      "source": [
        "kfold = KFold(n_splits=10, shuffle=True, random_state=seed) "
      ],
      "execution_count": 0,
      "outputs": []
    },
    {
      "cell_type": "code",
      "metadata": {
        "id": "tQhE1kFhFX3Q",
        "colab_type": "code",
        "colab": {
          "base_uri": "https://localhost:8080/",
          "height": 34
        },
        "outputId": "ee3522c2-686b-44a7-a2ee-01cd91b64fd9"
      },
      "source": [
        "results = cross_val_score(estimator, X, dummy_y, cv=kfold) \n",
        "print(\"smaller : %.2f%% (%.2f%%)\" % (results.mean()*100, results.std()*100)) "
      ],
      "execution_count": 117,
      "outputs": [
        {
          "output_type": "stream",
          "text": [
            "smaller : 98.00% (3.06%)\n"
          ],
          "name": "stdout"
        }
      ]
    },
    {
      "cell_type": "code",
      "metadata": {
        "id": "PeNVIxiWFbKX",
        "colab_type": "code",
        "colab": {}
      },
      "source": [
        "#Step 5.2. Evaluate a Larger Network \n",
        "\n",
        "def larger(): \n",
        "# create model \n",
        "  model = Sequential()\n",
        "  model.add(Dense(10, activation='relu', input_shape=(4,)))\n",
        "  model.add(Dense(3,activation='softmax'))\n",
        "# Compile model \n",
        "  model.compile(optimizer='Adam',loss='categorical_crossentropy', metrics=['acc'])\n",
        "  return model"
      ],
      "execution_count": 0,
      "outputs": []
    },
    {
      "cell_type": "code",
      "metadata": {
        "id": "RBWWAQLWG49Q",
        "colab_type": "code",
        "colab": {}
      },
      "source": [
        "estimator = KerasClassifier(build_fn=larger, epochs=200, batch_size=5, verbose=0) \n",
        "\n",
        " "
      ],
      "execution_count": 0,
      "outputs": []
    },
    {
      "cell_type": "code",
      "metadata": {
        "id": "w_nPfojCG6RC",
        "colab_type": "code",
        "colab": {}
      },
      "source": [
        "kfold = KFold(n_splits=10, shuffle=True, random_state=seed) "
      ],
      "execution_count": 0,
      "outputs": []
    },
    {
      "cell_type": "code",
      "metadata": {
        "id": "AFqA2-FqG7w5",
        "colab_type": "code",
        "colab": {
          "base_uri": "https://localhost:8080/",
          "height": 34
        },
        "outputId": "07b0b4e7-65ed-41f2-9740-df3221b4142d"
      },
      "source": [
        "results = cross_val_score(estimator, X, dummy_y, cv=kfold) \n",
        "print(\"larger : %.2f%% (%.2f%%)\" % (results.mean()*100, results.std()*100)) "
      ],
      "execution_count": 121,
      "outputs": [
        {
          "output_type": "stream",
          "text": [
            "larger : 96.00% (5.33%)\n"
          ],
          "name": "stdout"
        }
      ]
    },
    {
      "cell_type": "code",
      "metadata": {
        "id": "7_WGMtrhG9bp",
        "colab_type": "code",
        "colab": {
          "base_uri": "https://localhost:8080/",
          "height": 34
        },
        "outputId": "d868d81e-03c8-43d2-e127-6a0bc7277df1"
      },
      "source": [
        "#Step 6. Really Scaling up: developing a model that overfits \n",
        "def overfit(): \n",
        "# create model \n",
        "  model = Sequential()\n",
        "  model.add(Dense(514, activation='relu', input_shape=(4,)))\n",
        "  model.add(Dense(236, activation='relu'))\n",
        "  model.add(Dense(128, activation='relu'))\n",
        "  model.add(Dense(64, activation='relu'))\n",
        "  model.add(Dense(32, activation='relu'))\n",
        "  model.add(Dense(3,activation='softmax'))\n",
        "# Compile model \n",
        "  model.compile(optimizer='Adam',loss='categorical_crossentropy', metrics=['acc'])\n",
        "  return model\n",
        "\n",
        "\n",
        "estimator = KerasClassifier(build_fn=overfit, epochs=1000, batch_size=5, verbose=0) \n",
        "kfold = KFold(n_splits=10, shuffle=True, random_state=seed) \n",
        "results = cross_val_score(estimator, X, dummy_y, cv=kfold) \n",
        "print(\"Overfit : %.2f%% (%.2f%%)\" % (results.mean()*100, results.std()*100)) \n",
        " "
      ],
      "execution_count": 122,
      "outputs": [
        {
          "output_type": "stream",
          "text": [
            "Overfit : 70.00% (16.40%)\n"
          ],
          "name": "stdout"
        }
      ]
    },
    {
      "cell_type": "code",
      "metadata": {
        "id": "ucFuW7UkJ-G5",
        "colab_type": "code",
        "colab": {
          "base_uri": "https://localhost:8080/",
          "height": 34
        },
        "outputId": "d038ebee-7e56-4bc1-8325-577ff6f55176"
      },
      "source": [
        "#Step 7. Tuning the Model \n",
        "\n",
        "#Step 6. Really Scaling up: developing a model that overfits \n",
        "def tunning(): \n",
        "# create model \n",
        "  model = Sequential()\n",
        "  model.add(Dense(8, activation='relu', input_shape=(4,)))\n",
        "  model.add(Dense(3,activation='softmax'))\n",
        "# Compile model \n",
        "  model.compile(optimizer='Adam',loss='categorical_crossentropy', metrics=['acc'])\n",
        "  return model\n",
        "\n",
        "\n",
        "estimator = KerasClassifier(build_fn=tunning, epochs=1000, batch_size=5, verbose=0) \n",
        "kfold = KFold(n_splits=10, shuffle=True, random_state=seed) \n",
        "results = cross_val_score(estimator, X, dummy_y, cv=kfold) \n",
        "print(\"Tunning : %.2f%% (%.2f%%)\" % (results.mean()*100, results.std()*100)) \n",
        " \n",
        "\n"
      ],
      "execution_count": 123,
      "outputs": [
        {
          "output_type": "stream",
          "text": [
            "Tunning : 96.00% (5.33%)\n"
          ],
          "name": "stdout"
        }
      ]
    }
  ]
}